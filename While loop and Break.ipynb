{
 "cells": [
  {
   "cell_type": "code",
   "execution_count": null,
   "id": "50dbd053",
   "metadata": {},
   "outputs": [],
   "source": [
    "while True:\n",
    "    print(\"Don't run this code or else you will regret\")"
   ]
  },
  {
   "cell_type": "code",
   "execution_count": 2,
   "id": "6fb49ceb",
   "metadata": {},
   "outputs": [
    {
     "name": "stdout",
     "output_type": "stream",
     "text": [
      "Enter user_input :10\n",
      "10\n",
      "9\n",
      "8\n",
      "7\n",
      "6\n",
      "5\n",
      "4\n",
      "3\n",
      "2\n",
      "1\n"
     ]
    }
   ],
   "source": [
    "a = int(input(\"Enter user_input :\"))\n",
    "while a >=1 :\n",
    "    print(a)\n",
    "    a = a-1"
   ]
  },
  {
   "cell_type": "code",
   "execution_count": 1,
   "id": "d0bc5253",
   "metadata": {},
   "outputs": [
    {
     "name": "stdout",
     "output_type": "stream",
     "text": [
      "15\n"
     ]
    }
   ],
   "source": [
    "s = 0\n",
    "n = 1\n",
    "t = 5\n",
    "while n<=t :\n",
    "    s=s+n\n",
    "    n=n+1\n",
    "print(s)   "
   ]
  },
  {
   "cell_type": "code",
   "execution_count": 2,
   "id": "4373cdc9",
   "metadata": {},
   "outputs": [
    {
     "name": "stdout",
     "output_type": "stream",
     "text": [
      "Enter the starting number :1\n",
      "Enter the ending number :9\n",
      "362880\n"
     ]
    }
   ],
   "source": [
    "m = 1\n",
    "n = int(input(\"Enter the starting number :\"))\n",
    "t = int(input(\"Enter the ending number :\"))\n",
    "while n <= t:\n",
    "    m = m*n\n",
    "    n = n+1\n",
    "print(m)"
   ]
  },
  {
   "cell_type": "code",
   "execution_count": 9,
   "id": "d7279fd4",
   "metadata": {},
   "outputs": [
    {
     "name": "stdout",
     "output_type": "stream",
     "text": [
      "Enter the number of which you need to print the table : 19\n",
      "19 * 1 =  19\n",
      "19 * 2 =  38\n",
      "19 * 3 =  57\n",
      "19 * 4 =  76\n",
      "19 * 5 =  95\n",
      "19 * 6 =  114\n",
      "19 * 7 =  133\n",
      "19 * 8 =  152\n",
      "19 * 9 =  171\n",
      "19 * 10 =  190\n"
     ]
    }
   ],
   "source": [
    "n= int(input(\"Enter the number of which you need to print the table : \"))\n",
    "s = 1\n",
    "while s <= 10:\n",
    "    product = n * s\n",
    "    print(f\"{n} * {s} = \",product)\n",
    "    s += 1"
   ]
  },
  {
   "cell_type": "code",
   "execution_count": 13,
   "id": "7796a3fc",
   "metadata": {},
   "outputs": [
    {
     "name": "stdout",
     "output_type": "stream",
     "text": [
      "15\n",
      "14\n",
      "13\n",
      "12\n",
      "11\n",
      "10\n",
      "9\n",
      "8\n",
      "7\n",
      "6\n",
      "5\n",
      "4\n",
      "3\n",
      "2\n",
      "1\n",
      "Break time is over\n"
     ]
    }
   ],
   "source": [
    "#Time-Counter\n",
    "\n",
    "import time\n",
    "s = 15\n",
    "while s > 0 :\n",
    "    print(s)\n",
    "    time.sleep(1)\n",
    "    s=s-1\n",
    "print(\"Break time is over\")"
   ]
  },
  {
   "cell_type": "code",
   "execution_count": 14,
   "id": "e6bafd8a",
   "metadata": {},
   "outputs": [
    {
     "name": "stdout",
     "output_type": "stream",
     "text": [
      "20\n",
      "Enter your choice(1.biscuit ,2.chips , 3.redbull , 4.coke)1\n",
      "Take your biscuit\n",
      "16\n",
      "Enter your choice(1.biscuit ,2.chips , 3.redbull , 4.coke)2\n",
      "Take your chips\n",
      "11\n",
      "Enter your choice(1.biscuit ,2.chips , 3.redbull , 4.coke)4\n",
      "Take your coke\n",
      "You don't have enough balance in your wallet\n"
     ]
    }
   ],
   "source": [
    "#Code for simple vending Machine\n",
    "\n",
    "money_in_hand = 20\n",
    "while money_in_hand >= 5:\n",
    "    print(money_in_hand)\n",
    "    choice = int(input(\"Enter your choice(1.biscuit ,2.chips , 3.redbull , 4.coke)\"))\n",
    "    if choice == 1:\n",
    "        print(\"Take your biscuit\")\n",
    "        money_in_hand = money_in_hand - 4\n",
    "    elif choice == 2:\n",
    "             print(\"Take your chips\")\n",
    "             money_in_hand = money_in_hand - 5\n",
    "    elif choice == 3:\n",
    "             print(\"Take your redbull\")\n",
    "             money_in_hand = money_in_hand - 10\n",
    "    elif choice == 4:\n",
    "             print(\"Take your coke\")\n",
    "             money_in_hand = money_in_hand - 8\n",
    "    else:\n",
    "        print(\"You have not entered the correct choice\")\n",
    "print(\"You don't have enough balance in your wallet\")\n",
    "\n",
    "    "
   ]
  },
  {
   "cell_type": "code",
   "execution_count": 1,
   "id": "399ca0cb",
   "metadata": {},
   "outputs": [
    {
     "name": "stdout",
     "output_type": "stream",
     "text": [
      "Enter s to stop the counter\n",
      "Enter 's' for stop s\n",
      "Start the class break is over\n"
     ]
    }
   ],
   "source": [
    "#Time-Counter\n",
    "\n",
    "import time\n",
    "stop =False\n",
    "while not stop:\n",
    "    print(\"Enter s to stop the counter\")\n",
    "    time.sleep(1)\n",
    "    press_stop = input(\"Enter 's' for stop \")\n",
    "    \n",
    "    if press_stop.lower() == 's':\n",
    "        stop = True\n",
    "print(\"Start the class break is over\")\n"
   ]
  },
  {
   "cell_type": "code",
   "execution_count": 3,
   "id": "5323a9b9",
   "metadata": {},
   "outputs": [
    {
     "name": "stdout",
     "output_type": "stream",
     "text": [
      "Enter your user_id :nakul1995\n",
      "Enter your password :1\n",
      "Enter your password :2\n",
      "Enter your password :apple500\n",
      "You have logged in successfully\n"
     ]
    }
   ],
   "source": [
    "user_id = 'nakul1995'\n",
    "password = 'apple500'\n",
    "counter = 1\n",
    "user_id_check = False\n",
    "userid = input(\"Enter your user_id :\")\n",
    "\n",
    "while counter <= 3 :\n",
    "    \n",
    "    if userid == user_id:\n",
    "        user_id_check = True\n",
    "    else:\n",
    "        print(\"Your userid is incorrect\")\n",
    "        break\n",
    "    if user_id_check == True:\n",
    "        pswd = input(\"Enter your password :\")\n",
    "        if pswd == password :\n",
    "            print(\"You have logged in successfully\")\n",
    "            break\n",
    "        counter +=1\n",
    "if counter >3:\n",
    "    print(\"Your attempts are exhausted and you account is locked\")\n",
    "        \n",
    "\n",
    "      "
   ]
  },
  {
   "cell_type": "code",
   "execution_count": 3,
   "id": "2e1bf9c9",
   "metadata": {},
   "outputs": [
    {
     "name": "stdout",
     "output_type": "stream",
     "text": [
      "Enter your todo task :class\n",
      "enter n if you want to add in todo list or enter y if you dont want to addn\n",
      "Enter your todo task :eat\n",
      "enter n if you want to add in todo list or enter y if you dont want to addn\n",
      "Enter your todo task :play cricket\n",
      "enter n if you want to add in todo list or enter y if you dont want to addy\n",
      "my todo list is ['class', 'eat', 'play cricket']\n"
     ]
    }
   ],
   "source": [
    "todo_list = []\n",
    "end_of_todo = 'n'\n",
    "while end_of_todo != 'y':\n",
    "    todo_item = input(\"Enter your todo task :\")\n",
    "    todo_list.append(todo_item)\n",
    "    end_of_todo = input(\"enter n if you want to add in todo list or enter y if you dont want to add\")\n",
    "print(\"my todo list is\",todo_list)\n",
    "    \n"
   ]
  },
  {
   "cell_type": "markdown",
   "id": "405f863a",
   "metadata": {},
   "source": [
    "##### RECURSSIVE CALL"
   ]
  },
  {
   "cell_type": "code",
   "execution_count": null,
   "id": "b6760dd2",
   "metadata": {},
   "outputs": [],
   "source": [
    "5! = 5*4*3*2*1 = 120"
   ]
  },
  {
   "cell_type": "code",
   "execution_count": 8,
   "id": "29a368f2",
   "metadata": {},
   "outputs": [],
   "source": [
    "def fact(n) :\n",
    "    if n == 0:\n",
    "        return 1\n",
    "    else:\n",
    "        f = n * fact(n-1)\n",
    "        return f"
   ]
  },
  {
   "cell_type": "code",
   "execution_count": 9,
   "id": "60cb7d4c",
   "metadata": {},
   "outputs": [
    {
     "data": {
      "text/plain": [
       "120"
      ]
     },
     "execution_count": 9,
     "metadata": {},
     "output_type": "execute_result"
    }
   ],
   "source": [
    "fact(5)"
   ]
  },
  {
   "cell_type": "code",
   "execution_count": 13,
   "id": "1086c995",
   "metadata": {},
   "outputs": [
    {
     "data": {
      "text/plain": [
       "788657867364790503552363213932185062295135977687173263294742533244359449963403342920304284011984623904177212138919638830257642790242637105061926624952829931113462857270763317237396988943922445621451664240254033291864131227428294853277524242407573903240321257405579568660226031904170324062351700858796178922222789623703897374720000000000000000000000000000000000000000000000000"
      ]
     },
     "execution_count": 13,
     "metadata": {},
     "output_type": "execute_result"
    }
   ],
   "source": [
    "fact(200)"
   ]
  },
  {
   "cell_type": "code",
   "execution_count": 14,
   "id": "67d1435c",
   "metadata": {},
   "outputs": [
    {
     "data": {
      "text/plain": [
       "67526802209645841583879061361800814224269427869589384312198268703685091643180416969132446952698303794226010370578672908593198347699886928591906501031587651846976759681112609524787093848004428636186893395272784450630354080243217646658024696659065951793757223520229235577548653833681102170973893746054649126415909143150172860721156685810655759230011450132992176454983227538696340112610447029002337004887877266387704586077293585433151612518800147764461182680822867092786694982831838641800997499819339206579415325649748486265233918911087114592440896594062675914294925816719862178374679272092637524786939036290035924271782253738059886933923447877769583003016705363339031413069155837518524761078342052635475632113169618774549275701480106933362990003732589370593557325299434734459295866728988740794174654391479926000848846686708729736713207285203712732201272410830836913052635365082888725171636081587151603468291106754640398232146673627370895934090777828827549554232436190464827998683927179246029919443251026464452337939599198528297828591122689960620361238248313158071643395848405047261412680039877733761849874447323867911712630023171745968278465780558568067035013885275080292137360491875164947724464221693533755035300065350065137490832039523382963747026185653050331832380991844842560750923543775188582096487476950254418365198999674684417286265442786651594404781622946901879166382930714196908227460133027605817864877377712193142137625430353718448269390732615776645283198828602917680224041088993892610506802195917247838900106910698057030379190571057605849323113308634452008179881165616449767648354161225066967961297609698742737923389391615207441152319392845687673311899247085327703421862972871644495409572259985563215471482083325653231777113271326579970310755604973969708949477374254974480294652427022436705380184064008853457214518515270985563195412993145274057688634448812449445800617631162768243125606424844709372022149908463572254912654907763445758543980999149122998104378965626781898655221443263601405152073199706585080288735040205417371277253096243200000000000000000000000000000000000000000000000000000000000000000000000000000000000000000000000000000000000000000000000000000000000000000000000000000000000000000000000000000000000000000000000000000000000000000000000000000000"
      ]
     },
     "execution_count": 14,
     "metadata": {},
     "output_type": "execute_result"
    }
   ],
   "source": [
    "fact(900)"
   ]
  },
  {
   "cell_type": "code",
   "execution_count": 1,
   "id": "c499a8e4",
   "metadata": {},
   "outputs": [],
   "source": [
    "def fib(n):\n",
    "    if n<=1:\n",
    "        return n\n",
    "    else:\n",
    "        return fib(n-2) + fib(n-1)"
   ]
  },
  {
   "cell_type": "code",
   "execution_count": 2,
   "id": "5370aff1",
   "metadata": {},
   "outputs": [
    {
     "data": {
      "text/plain": [
       "5"
      ]
     },
     "execution_count": 2,
     "metadata": {},
     "output_type": "execute_result"
    }
   ],
   "source": [
    "fib(5)"
   ]
  },
  {
   "cell_type": "code",
   "execution_count": 3,
   "id": "384ce172",
   "metadata": {},
   "outputs": [
    {
     "data": {
      "text/plain": [
       "2"
      ]
     },
     "execution_count": 3,
     "metadata": {},
     "output_type": "execute_result"
    }
   ],
   "source": [
    "fib(3)"
   ]
  },
  {
   "cell_type": "code",
   "execution_count": 4,
   "id": "416abb5c",
   "metadata": {},
   "outputs": [
    {
     "data": {
      "text/plain": [
       "6765"
      ]
     },
     "execution_count": 4,
     "metadata": {},
     "output_type": "execute_result"
    }
   ],
   "source": [
    "fib(20)"
   ]
  },
  {
   "cell_type": "code",
   "execution_count": 1,
   "id": "c1725c89",
   "metadata": {},
   "outputs": [],
   "source": [
    "#  Summation of digits in a number :==>>\n",
    "\n",
    "def get_sum(n):\n",
    "    s = 0\n",
    "    for digit in str(n):\n",
    "        s+=int(digit) \n",
    "    return s\n",
    "        "
   ]
  },
  {
   "cell_type": "code",
   "execution_count": 2,
   "id": "59b27ed0",
   "metadata": {},
   "outputs": [
    {
     "data": {
      "text/plain": [
       "6"
      ]
     },
     "execution_count": 2,
     "metadata": {},
     "output_type": "execute_result"
    }
   ],
   "source": [
    "get_sum(231)"
   ]
  },
  {
   "cell_type": "code",
   "execution_count": 3,
   "id": "a308f250",
   "metadata": {},
   "outputs": [],
   "source": [
    "def sum_digit(n):\n",
    "    if n <= 9:\n",
    "        return n\n",
    "    else:\n",
    "        return n % 10 + sum_digit(n//10)"
   ]
  },
  {
   "cell_type": "code",
   "execution_count": 4,
   "id": "86a53cac",
   "metadata": {},
   "outputs": [
    {
     "data": {
      "text/plain": [
       "12"
      ]
     },
     "execution_count": 4,
     "metadata": {},
     "output_type": "execute_result"
    }
   ],
   "source": [
    "sum_digit(354)"
   ]
  },
  {
   "cell_type": "code",
   "execution_count": 8,
   "id": "8ad10271",
   "metadata": {},
   "outputs": [
    {
     "name": "stdout",
     "output_type": "stream",
     "text": [
      "9\n"
     ]
    }
   ],
   "source": [
    "L = [3,4,5,6,7,8,9]\n",
    "a = 0\n",
    "for i in L:\n",
    "    if i>a:\n",
    "        a=i\n",
    "print(a)\n"
   ]
  },
  {
   "cell_type": "code",
   "execution_count": 11,
   "id": "cc305b59",
   "metadata": {},
   "outputs": [],
   "source": [
    "def find_max(X):\n",
    "    if len(X) == 1:\n",
    "        return X[0]\n",
    "    else:\n",
    "        return max(X[0],find_max(X[1:]))\n",
    "        "
   ]
  },
  {
   "cell_type": "code",
   "execution_count": 12,
   "id": "a6488472",
   "metadata": {},
   "outputs": [
    {
     "data": {
      "text/plain": [
       "87"
      ]
     },
     "execution_count": 12,
     "metadata": {},
     "output_type": "execute_result"
    }
   ],
   "source": [
    "find_max([23,12,65,87,34,3,21])"
   ]
  },
  {
   "cell_type": "code",
   "execution_count": 14,
   "id": "7c8bcd17",
   "metadata": {},
   "outputs": [
    {
     "data": {
      "text/plain": [
       "3125"
      ]
     },
     "execution_count": 14,
     "metadata": {},
     "output_type": "execute_result"
    }
   ],
   "source": [
    "pow(5,5)"
   ]
  },
  {
   "cell_type": "code",
   "execution_count": 19,
   "id": "a6180e90",
   "metadata": {},
   "outputs": [],
   "source": [
    "def power_fun(n,k):\n",
    "    \n",
    "    if k==0:\n",
    "        return 1\n",
    "    else:\n",
    "        return n*power_fun(n,k-1)\n",
    "    "
   ]
  },
  {
   "cell_type": "code",
   "execution_count": 20,
   "id": "bba65aca",
   "metadata": {},
   "outputs": [
    {
     "data": {
      "text/plain": [
       "125"
      ]
     },
     "execution_count": 20,
     "metadata": {},
     "output_type": "execute_result"
    }
   ],
   "source": [
    "power_fun(5,3)"
   ]
  },
  {
   "cell_type": "code",
   "execution_count": 21,
   "id": "6915a167",
   "metadata": {},
   "outputs": [
    {
     "data": {
      "text/plain": [
       "6561"
      ]
     },
     "execution_count": 21,
     "metadata": {},
     "output_type": "execute_result"
    }
   ],
   "source": [
    "power_fun(3,8)"
   ]
  },
  {
   "cell_type": "code",
   "execution_count": 22,
   "id": "3009a14e",
   "metadata": {},
   "outputs": [
    {
     "data": {
      "text/plain": [
       "65536"
      ]
     },
     "execution_count": 22,
     "metadata": {},
     "output_type": "execute_result"
    }
   ],
   "source": [
    "power_fun(2,16)"
   ]
  },
  {
   "cell_type": "code",
   "execution_count": null,
   "id": "0f5f4ea5",
   "metadata": {},
   "outputs": [],
   "source": []
  }
 ],
 "metadata": {
  "kernelspec": {
   "display_name": "Python 3 (ipykernel)",
   "language": "python",
   "name": "python3"
  },
  "language_info": {
   "codemirror_mode": {
    "name": "ipython",
    "version": 3
   },
   "file_extension": ".py",
   "mimetype": "text/x-python",
   "name": "python",
   "nbconvert_exporter": "python",
   "pygments_lexer": "ipython3",
   "version": "3.11.3"
  }
 },
 "nbformat": 4,
 "nbformat_minor": 5
}
